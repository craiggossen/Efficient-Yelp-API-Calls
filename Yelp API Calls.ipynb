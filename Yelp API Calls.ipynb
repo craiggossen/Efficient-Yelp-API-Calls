{
 "cells": [
  {
   "cell_type": "markdown",
   "id": "3368f830",
   "metadata": {},
   "source": [
    "# Efficient Yelp API Calls\n",
    "\n",
    "Craig Gossen"
   ]
  },
  {
   "cell_type": "markdown",
   "id": "0ee4ad7e",
   "metadata": {},
   "source": [
    "## Setting up API "
   ]
  },
  {
   "cell_type": "code",
   "execution_count": 1,
   "id": "8d0c3e2f",
   "metadata": {},
   "outputs": [],
   "source": [
    "# Standard Imports\n",
    "import numpy as np\n",
    "import pandas as pd\n",
    "import matplotlib.pyplot as plt\n",
    "import seaborn as sns\n",
    "\n",
    "# Additional Imports\n",
    "import os, json, math, time\n",
    "from yelpapi import YelpAPI\n",
    "from tqdm.notebook import tqdm_notebook"
   ]
  },
  {
   "cell_type": "code",
   "execution_count": 2,
   "id": "8f384245",
   "metadata": {},
   "outputs": [
    {
     "name": "stdout",
     "output_type": "stream",
     "text": [
      "Requirement already satisfied: tqdm in c:\\users\\craig\\anaconda3\\envs\\dojo-env\\lib\\site-packages (4.64.1)\n",
      "Requirement already satisfied: colorama in c:\\users\\craig\\anaconda3\\envs\\dojo-env\\lib\\site-packages (from tqdm) (0.4.5)\n"
     ]
    }
   ],
   "source": [
    "# Install tmdbsimple (only need to run once)\n",
    "!pip install tqdm"
   ]
  },
  {
   "cell_type": "code",
   "execution_count": 3,
   "id": "209b21cb",
   "metadata": {},
   "outputs": [],
   "source": [
    "# Load API Credentials\n",
    "with open('/Users/craig/.secret/yelp_api.json') as f: \n",
    "    login = json.load(f)\n",
    "# Instantiate YelpAPI Variable\n",
    "yelp_api = YelpAPI(login['api-key'], timeout_s=5.0)"
   ]
  },
  {
   "cell_type": "code",
   "execution_count": 4,
   "id": "46f609ab",
   "metadata": {},
   "outputs": [],
   "source": [
    "# set our API call parameters \n",
    "LOCATION = 'Chicago, IL'\n",
    "TERM = 'Pizza'"
   ]
  },
  {
   "cell_type": "code",
   "execution_count": 5,
   "id": "64ee5555",
   "metadata": {},
   "outputs": [
    {
     "data": {
      "text/plain": [
       "'Data/results_in_progress_Chi_pizza.json'"
      ]
     },
     "execution_count": 5,
     "metadata": {},
     "output_type": "execute_result"
    }
   ],
   "source": [
    "# Specifying JSON_FILE filename (can include a folder) #This sets the retrieved data into the DATA folder within the Jupyter notebook\n",
    "# include the search terms in the filename\n",
    "JSON_FILE = \"Data/results_in_progress_Chi_pizza.json\"\n",
    "JSON_FILE"
   ]
  },
  {
   "cell_type": "code",
   "execution_count": 8,
   "id": "67909f08",
   "metadata": {},
   "outputs": [
    {
     "name": "stdout",
     "output_type": "stream",
     "text": [
      "Requirement already satisfied: tqdm in c:\\users\\craig\\anaconda3\\envs\\dojo-env\\lib\\site-packages (4.64.1)\n",
      "Requirement already satisfied: colorama in c:\\users\\craig\\anaconda3\\envs\\dojo-env\\lib\\site-packages (from tqdm) (0.4.5)\n"
     ]
    }
   ],
   "source": [
    "#Install tqdm (only need to run once)\n",
    "!pip install tqdm"
   ]
  },
  {
   "cell_type": "markdown",
   "id": "f209922b",
   "metadata": {},
   "source": [
    "## Create JSON File"
   ]
  },
  {
   "cell_type": "code",
   "execution_count": 9,
   "id": "e1bba9bd",
   "metadata": {},
   "outputs": [],
   "source": [
    "#Function to create JSON file and check if existing file exists\n",
    "\n",
    "def create_json_file(JSON_FILE,  delete_if_exists=False):\n",
    "    \n",
    "    ## Check if JSON_FILE exists\n",
    "    file_exists = os.path.isfile(JSON_FILE)\n",
    "    \n",
    "    ## If it DOES exist:\n",
    "    if file_exists == True:\n",
    "        \n",
    "        ## Check if user wants to delete if exists\n",
    "        if delete_if_exists==True:\n",
    "            \n",
    "            print(f\"[!] {JSON_FILE} already exists. Deleting previous file...\")\n",
    "            ## delete file and confirm it no longer exits.\n",
    "            os.remove(JSON_FILE)\n",
    "            ## Recursive call to function after old file deleted\n",
    "            create_json_file(JSON_FILE,delete_if_exists=False)\n",
    "        else:\n",
    "            print(f\"[i] {JSON_FILE} already exists.\")            \n",
    "            \n",
    "            \n",
    "    ## If it does NOT exist:\n",
    "    else:\n",
    "        \n",
    "        ## INFORM USER AND SAVE EMPTY LIST\n",
    "        print(f\"[i] {JSON_FILE} not found. Saving empty list to new file.\")\n",
    "        \n",
    "        ## CREATE ANY NEEDED FOLDERS\n",
    "        # Get the Folder Name only\n",
    "        folder = os.path.dirname(JSON_FILE)\n",
    "        \n",
    "        ## If JSON_FILE included a folder:\n",
    "        if len(folder)>0:\n",
    "            # create the folder\n",
    "            os.makedirs(folder,exist_ok=True)\n",
    "        ## Save empty list to start the json file\n",
    "        with open(JSON_FILE,'w') as f:\n",
    "            json.dump([],f) "
   ]
  },
  {
   "cell_type": "markdown",
   "id": "ee8dc287",
   "metadata": {},
   "source": [
    "## Interact with API"
   ]
  },
  {
   "cell_type": "code",
   "execution_count": 12,
   "id": "5ff97c4e",
   "metadata": {},
   "outputs": [
    {
     "name": "stdout",
     "output_type": "stream",
     "text": [
      "[!] Data/results_in_progress_Chi_pizza.json already exists. Deleting previous file...\n",
      "[i] Data/results_in_progress_Chi_pizza.json not found. Saving empty list to new file.\n",
      "- 0 previous results found.\n",
      "The total number of results is: 7700\n",
      "We can retrieve 20 results at a time (per page)\n",
      "The number of pages is: 385\n"
     ]
    }
   ],
   "source": [
    "# Create a new empty json file (exist the previous if it exists)\n",
    "create_json_file(JSON_FILE, delete_if_exists=True)\n",
    "## Load previous results and use len of results for offset\n",
    "with open(JSON_FILE,'r') as f:\n",
    "    previous_results = json.load(f)\n",
    "    \n",
    "## set offset based on previous results\n",
    "n_results = len(previous_results)\n",
    "print(f'- {n_results} previous results found.')\n",
    "# use our yelp_api variable's search_query method to perform our API call\n",
    "results = yelp_api.search_query(location=LOCATION,\n",
    "                                term=TERM,\n",
    "                               offset=n_results)\n",
    "## How many results total?\n",
    "total_results = results['total']\n",
    "print(f'The total number of results is: {total_results}')\n",
    "\n",
    "## How many did we get the details for?\n",
    "results_per_page = len(results['businesses'])\n",
    "print(f'We can retrieve {results_per_page} results at a time (per page)')\n",
    "\n",
    "# Use math.ceil to round up for the total number of pages of results.\n",
    "n_pages = math.ceil((results['total']-n_results)/ results_per_page)\n",
    "print(f'The number of pages is: {n_pages}')"
   ]
  },
  {
   "cell_type": "markdown",
   "id": "092c9f9d",
   "metadata": {},
   "source": [
    "The total number of results is 7700, which is >1000, and will knowingly stop the API requests. "
   ]
  },
  {
   "cell_type": "code",
   "execution_count": 13,
   "id": "c2d3efd5",
   "metadata": {},
   "outputs": [
    {
     "data": {
      "application/vnd.jupyter.widget-view+json": {
       "model_id": "929d5c587bf44cccb361470ede9e4c32",
       "version_major": 2,
       "version_minor": 0
      },
      "text/plain": [
       "  0%|          | 0/385 [00:00<?, ?it/s]"
      ]
     },
     "metadata": {},
     "output_type": "display_data"
    },
    {
     "name": "stdout",
     "output_type": "stream",
     "text": [
      "Exceeded 1000 api calls. Stopping loop.\n"
     ]
    }
   ],
   "source": [
    "#Loop to iterate and combine the results per page up to 1000 api calls\n",
    "\n",
    "for i in tqdm_notebook( range(1,n_pages+1)):\n",
    "    \n",
    "    ## Read in results in progress file and check the length\n",
    "    with open(JSON_FILE, 'r') as f:\n",
    "        previous_results = json.load(f)\n",
    "    ## save number of results for to use as offset\n",
    "    n_results = len(previous_results)\n",
    "    \n",
    "    if (n_results + results_per_page) > 1000:\n",
    "        print('Exceeded 1000 api calls. Stopping loop.')\n",
    "        break\n",
    "    \n",
    "    ## use n_results as the OFFSET \n",
    "    results = yelp_api.search_query(location=LOCATION,\n",
    "                                    term=TERM, \n",
    "                                    offset=n_results)\n",
    "    \n",
    "    \n",
    "    \n",
    "    ## append new results and save to file\n",
    "    previous_results.extend(results['businesses'])\n",
    "    \n",
    "    # display(previous_results)\n",
    "    with open(JSON_FILE,'w') as f:\n",
    "        json.dump(previous_results,f)\n",
    "    \n",
    "    time.sleep(.1)"
   ]
  },
  {
   "cell_type": "markdown",
   "id": "882cd612",
   "metadata": {},
   "source": [
    "## Convert .json file to dataframe"
   ]
  },
  {
   "cell_type": "code",
   "execution_count": 14,
   "id": "d1c48886",
   "metadata": {},
   "outputs": [
    {
     "data": {
      "text/html": [
       "<div>\n",
       "<style scoped>\n",
       "    .dataframe tbody tr th:only-of-type {\n",
       "        vertical-align: middle;\n",
       "    }\n",
       "\n",
       "    .dataframe tbody tr th {\n",
       "        vertical-align: top;\n",
       "    }\n",
       "\n",
       "    .dataframe thead th {\n",
       "        text-align: right;\n",
       "    }\n",
       "</style>\n",
       "<table border=\"1\" class=\"dataframe\">\n",
       "  <thead>\n",
       "    <tr style=\"text-align: right;\">\n",
       "      <th></th>\n",
       "      <th>id</th>\n",
       "      <th>alias</th>\n",
       "      <th>name</th>\n",
       "      <th>image_url</th>\n",
       "      <th>is_closed</th>\n",
       "      <th>url</th>\n",
       "      <th>review_count</th>\n",
       "      <th>categories</th>\n",
       "      <th>rating</th>\n",
       "      <th>coordinates</th>\n",
       "      <th>transactions</th>\n",
       "      <th>price</th>\n",
       "      <th>location</th>\n",
       "      <th>phone</th>\n",
       "      <th>display_phone</th>\n",
       "      <th>distance</th>\n",
       "    </tr>\n",
       "  </thead>\n",
       "  <tbody>\n",
       "    <tr>\n",
       "      <th>0</th>\n",
       "      <td>8vFJH_paXsMocmEO_KAa3w</td>\n",
       "      <td>lou-malnatis-pizzeria-chicago</td>\n",
       "      <td>Lou Malnati's Pizzeria</td>\n",
       "      <td>https://s3-media3.fl.yelpcdn.com/bphoto/FXGmfo...</td>\n",
       "      <td>False</td>\n",
       "      <td>https://www.yelp.com/biz/lou-malnatis-pizzeria...</td>\n",
       "      <td>6982</td>\n",
       "      <td>[{'alias': 'pizza', 'title': 'Pizza'}, {'alias...</td>\n",
       "      <td>4.0</td>\n",
       "      <td>{'latitude': 41.890357, 'longitude': -87.633704}</td>\n",
       "      <td>[pickup, delivery]</td>\n",
       "      <td>$$</td>\n",
       "      <td>{'address1': '439 N Wells St', 'address2': '',...</td>\n",
       "      <td>+13128289800</td>\n",
       "      <td>(312) 828-9800</td>\n",
       "      <td>10366.447105</td>\n",
       "    </tr>\n",
       "    <tr>\n",
       "      <th>1</th>\n",
       "      <td>Bxd9Y2PsdvIOGIKFQh53RQ</td>\n",
       "      <td>giordanos-chicago-30</td>\n",
       "      <td>Giordano's</td>\n",
       "      <td>https://s3-media1.fl.yelpcdn.com/bphoto/OKxuR9...</td>\n",
       "      <td>False</td>\n",
       "      <td>https://www.yelp.com/biz/giordanos-chicago-30?...</td>\n",
       "      <td>3375</td>\n",
       "      <td>[{'alias': 'pizza', 'title': 'Pizza'}, {'alias...</td>\n",
       "      <td>4.0</td>\n",
       "      <td>{'latitude': 41.88513231411071, 'longitude': -...</td>\n",
       "      <td>[delivery]</td>\n",
       "      <td>$$</td>\n",
       "      <td>{'address1': '130 E Randolph St', 'address2': ...</td>\n",
       "      <td>+13126161200</td>\n",
       "      <td>(312) 616-1200</td>\n",
       "      <td>10689.526750</td>\n",
       "    </tr>\n",
       "    <tr>\n",
       "      <th>2</th>\n",
       "      <td>DXwSYgiXqIVNdO9dazel6w</td>\n",
       "      <td>pequods-pizzeria-chicago</td>\n",
       "      <td>Pequod's Pizzeria</td>\n",
       "      <td>https://s3-media1.fl.yelpcdn.com/bphoto/8QJUNb...</td>\n",
       "      <td>False</td>\n",
       "      <td>https://www.yelp.com/biz/pequods-pizzeria-chic...</td>\n",
       "      <td>7369</td>\n",
       "      <td>[{'alias': 'pizza', 'title': 'Pizza'}]</td>\n",
       "      <td>4.0</td>\n",
       "      <td>{'latitude': 41.92187, 'longitude': -87.664486}</td>\n",
       "      <td>[pickup, delivery]</td>\n",
       "      <td>$$</td>\n",
       "      <td>{'address1': '2207 N Clybourn Ave', 'address2'...</td>\n",
       "      <td>+17733271512</td>\n",
       "      <td>(773) 327-1512</td>\n",
       "      <td>11423.025038</td>\n",
       "    </tr>\n",
       "    <tr>\n",
       "      <th>3</th>\n",
       "      <td>cxAkuwv7p4gm4Coixw7h9A</td>\n",
       "      <td>lou-malnatis-pizzeria-chicago-9</td>\n",
       "      <td>Lou Malnati's Pizzeria</td>\n",
       "      <td>https://s3-media2.fl.yelpcdn.com/bphoto/vZVADY...</td>\n",
       "      <td>False</td>\n",
       "      <td>https://www.yelp.com/biz/lou-malnatis-pizzeria...</td>\n",
       "      <td>2954</td>\n",
       "      <td>[{'alias': 'pizza', 'title': 'Pizza'}, {'alias...</td>\n",
       "      <td>4.0</td>\n",
       "      <td>{'latitude': 41.871566, 'longitude': -87.627275}</td>\n",
       "      <td>[delivery, pickup]</td>\n",
       "      <td>$$</td>\n",
       "      <td>{'address1': '805 S State St', 'address2': '',...</td>\n",
       "      <td>+13127861000</td>\n",
       "      <td>(312) 786-1000</td>\n",
       "      <td>9676.008122</td>\n",
       "    </tr>\n",
       "    <tr>\n",
       "      <th>4</th>\n",
       "      <td>hxq4TNNazA-sjqFvVgx_Pw</td>\n",
       "      <td>bongiornos-italian-deli-and-pizzeria-chicago</td>\n",
       "      <td>Bongiorno's Italian Deli &amp; Pizzeria</td>\n",
       "      <td>https://s3-media3.fl.yelpcdn.com/bphoto/A2VP2G...</td>\n",
       "      <td>False</td>\n",
       "      <td>https://www.yelp.com/biz/bongiornos-italian-de...</td>\n",
       "      <td>761</td>\n",
       "      <td>[{'alias': 'pizza', 'title': 'Pizza'}, {'alias...</td>\n",
       "      <td>4.5</td>\n",
       "      <td>{'latitude': 41.889903, 'longitude': -87.625788}</td>\n",
       "      <td>[pickup, delivery]</td>\n",
       "      <td>$$</td>\n",
       "      <td>{'address1': '405 N Wabash Ave', 'address2': '...</td>\n",
       "      <td>+13127551255</td>\n",
       "      <td>(312) 755-1255</td>\n",
       "      <td>10855.422434</td>\n",
       "    </tr>\n",
       "  </tbody>\n",
       "</table>\n",
       "</div>"
      ],
      "text/plain": [
       "                       id                                         alias  \\\n",
       "0  8vFJH_paXsMocmEO_KAa3w                 lou-malnatis-pizzeria-chicago   \n",
       "1  Bxd9Y2PsdvIOGIKFQh53RQ                          giordanos-chicago-30   \n",
       "2  DXwSYgiXqIVNdO9dazel6w                      pequods-pizzeria-chicago   \n",
       "3  cxAkuwv7p4gm4Coixw7h9A               lou-malnatis-pizzeria-chicago-9   \n",
       "4  hxq4TNNazA-sjqFvVgx_Pw  bongiornos-italian-deli-and-pizzeria-chicago   \n",
       "\n",
       "                                  name  \\\n",
       "0               Lou Malnati's Pizzeria   \n",
       "1                           Giordano's   \n",
       "2                    Pequod's Pizzeria   \n",
       "3               Lou Malnati's Pizzeria   \n",
       "4  Bongiorno's Italian Deli & Pizzeria   \n",
       "\n",
       "                                           image_url  is_closed  \\\n",
       "0  https://s3-media3.fl.yelpcdn.com/bphoto/FXGmfo...      False   \n",
       "1  https://s3-media1.fl.yelpcdn.com/bphoto/OKxuR9...      False   \n",
       "2  https://s3-media1.fl.yelpcdn.com/bphoto/8QJUNb...      False   \n",
       "3  https://s3-media2.fl.yelpcdn.com/bphoto/vZVADY...      False   \n",
       "4  https://s3-media3.fl.yelpcdn.com/bphoto/A2VP2G...      False   \n",
       "\n",
       "                                                 url  review_count  \\\n",
       "0  https://www.yelp.com/biz/lou-malnatis-pizzeria...          6982   \n",
       "1  https://www.yelp.com/biz/giordanos-chicago-30?...          3375   \n",
       "2  https://www.yelp.com/biz/pequods-pizzeria-chic...          7369   \n",
       "3  https://www.yelp.com/biz/lou-malnatis-pizzeria...          2954   \n",
       "4  https://www.yelp.com/biz/bongiornos-italian-de...           761   \n",
       "\n",
       "                                          categories  rating  \\\n",
       "0  [{'alias': 'pizza', 'title': 'Pizza'}, {'alias...     4.0   \n",
       "1  [{'alias': 'pizza', 'title': 'Pizza'}, {'alias...     4.0   \n",
       "2             [{'alias': 'pizza', 'title': 'Pizza'}]     4.0   \n",
       "3  [{'alias': 'pizza', 'title': 'Pizza'}, {'alias...     4.0   \n",
       "4  [{'alias': 'pizza', 'title': 'Pizza'}, {'alias...     4.5   \n",
       "\n",
       "                                         coordinates        transactions  \\\n",
       "0   {'latitude': 41.890357, 'longitude': -87.633704}  [pickup, delivery]   \n",
       "1  {'latitude': 41.88513231411071, 'longitude': -...          [delivery]   \n",
       "2    {'latitude': 41.92187, 'longitude': -87.664486}  [pickup, delivery]   \n",
       "3   {'latitude': 41.871566, 'longitude': -87.627275}  [delivery, pickup]   \n",
       "4   {'latitude': 41.889903, 'longitude': -87.625788}  [pickup, delivery]   \n",
       "\n",
       "  price                                           location         phone  \\\n",
       "0    $$  {'address1': '439 N Wells St', 'address2': '',...  +13128289800   \n",
       "1    $$  {'address1': '130 E Randolph St', 'address2': ...  +13126161200   \n",
       "2    $$  {'address1': '2207 N Clybourn Ave', 'address2'...  +17733271512   \n",
       "3    $$  {'address1': '805 S State St', 'address2': '',...  +13127861000   \n",
       "4    $$  {'address1': '405 N Wabash Ave', 'address2': '...  +13127551255   \n",
       "\n",
       "    display_phone      distance  \n",
       "0  (312) 828-9800  10366.447105  \n",
       "1  (312) 616-1200  10689.526750  \n",
       "2  (773) 327-1512  11423.025038  \n",
       "3  (312) 786-1000   9676.008122  \n",
       "4  (312) 755-1255  10855.422434  "
      ]
     },
     "metadata": {},
     "output_type": "display_data"
    },
    {
     "data": {
      "text/html": [
       "<div>\n",
       "<style scoped>\n",
       "    .dataframe tbody tr th:only-of-type {\n",
       "        vertical-align: middle;\n",
       "    }\n",
       "\n",
       "    .dataframe tbody tr th {\n",
       "        vertical-align: top;\n",
       "    }\n",
       "\n",
       "    .dataframe thead th {\n",
       "        text-align: right;\n",
       "    }\n",
       "</style>\n",
       "<table border=\"1\" class=\"dataframe\">\n",
       "  <thead>\n",
       "    <tr style=\"text-align: right;\">\n",
       "      <th></th>\n",
       "      <th>id</th>\n",
       "      <th>alias</th>\n",
       "      <th>name</th>\n",
       "      <th>image_url</th>\n",
       "      <th>is_closed</th>\n",
       "      <th>url</th>\n",
       "      <th>review_count</th>\n",
       "      <th>categories</th>\n",
       "      <th>rating</th>\n",
       "      <th>coordinates</th>\n",
       "      <th>transactions</th>\n",
       "      <th>price</th>\n",
       "      <th>location</th>\n",
       "      <th>phone</th>\n",
       "      <th>display_phone</th>\n",
       "      <th>distance</th>\n",
       "    </tr>\n",
       "  </thead>\n",
       "  <tbody>\n",
       "    <tr>\n",
       "      <th>995</th>\n",
       "      <td>OePx82TBE3PuHJH-7OfLHQ</td>\n",
       "      <td>antonios-pizza-factory-geneva</td>\n",
       "      <td>Antonio's Pizza Factory</td>\n",
       "      <td>https://s3-media4.fl.yelpcdn.com/bphoto/vEPxj7...</td>\n",
       "      <td>False</td>\n",
       "      <td>https://www.yelp.com/biz/antonios-pizza-factor...</td>\n",
       "      <td>47</td>\n",
       "      <td>[{'alias': 'pizza', 'title': 'Pizza'}]</td>\n",
       "      <td>4.5</td>\n",
       "      <td>{'latitude': 41.8827095031738, 'longitude': -8...</td>\n",
       "      <td>[delivery]</td>\n",
       "      <td>$$</td>\n",
       "      <td>{'address1': '500 Lark St', 'address2': '', 'a...</td>\n",
       "      <td>+16302326666</td>\n",
       "      <td>(630) 232-6666</td>\n",
       "      <td>50978.379399</td>\n",
       "    </tr>\n",
       "    <tr>\n",
       "      <th>996</th>\n",
       "      <td>kmJ6Todwg36wLxv6UZYMyA</td>\n",
       "      <td>chicago-pizza-authority-hoffman-estates</td>\n",
       "      <td>Chicago Pizza Authority</td>\n",
       "      <td>https://s3-media3.fl.yelpcdn.com/bphoto/5sWngZ...</td>\n",
       "      <td>False</td>\n",
       "      <td>https://www.yelp.com/biz/chicago-pizza-authori...</td>\n",
       "      <td>24</td>\n",
       "      <td>[{'alias': 'pizza', 'title': 'Pizza'}, {'alias...</td>\n",
       "      <td>4.5</td>\n",
       "      <td>{'latitude': 42.09277, 'longitude': -88.12274}</td>\n",
       "      <td>[delivery, pickup]</td>\n",
       "      <td>NaN</td>\n",
       "      <td>{'address1': '1726 W Algonquin Rd', 'address2'...</td>\n",
       "      <td>+18474858223</td>\n",
       "      <td>(847) 485-8223</td>\n",
       "      <td>43409.584245</td>\n",
       "    </tr>\n",
       "    <tr>\n",
       "      <th>997</th>\n",
       "      <td>fESy8pfywnwDqJzKpn5GZw</td>\n",
       "      <td>sarpinos-pizzeria-chicago-452</td>\n",
       "      <td>Sarpino's Pizzeria</td>\n",
       "      <td>https://s3-media1.fl.yelpcdn.com/bphoto/390GS4...</td>\n",
       "      <td>False</td>\n",
       "      <td>https://www.yelp.com/biz/sarpinos-pizzeria-chi...</td>\n",
       "      <td>213</td>\n",
       "      <td>[{'alias': 'pizza', 'title': 'Pizza'}, {'alias...</td>\n",
       "      <td>3.0</td>\n",
       "      <td>{'latitude': 41.9613, 'longitude': -87.66648}</td>\n",
       "      <td>[delivery, pickup]</td>\n",
       "      <td>$$</td>\n",
       "      <td>{'address1': '1435 W Montrose St', 'address2':...</td>\n",
       "      <td>+17732811800</td>\n",
       "      <td>(773) 281-1800</td>\n",
       "      <td>15346.641319</td>\n",
       "    </tr>\n",
       "    <tr>\n",
       "      <th>998</th>\n",
       "      <td>fDpryalBDQhHoll8UKRaXw</td>\n",
       "      <td>way-out-chicago</td>\n",
       "      <td>Way Out</td>\n",
       "      <td>https://s3-media2.fl.yelpcdn.com/bphoto/puRdxB...</td>\n",
       "      <td>False</td>\n",
       "      <td>https://www.yelp.com/biz/way-out-chicago?adjus...</td>\n",
       "      <td>22</td>\n",
       "      <td>[{'alias': 'chicken_wings', 'title': 'Chicken ...</td>\n",
       "      <td>4.5</td>\n",
       "      <td>{'latitude': 41.91716335791234, 'longitude': -...</td>\n",
       "      <td>[delivery, pickup]</td>\n",
       "      <td>NaN</td>\n",
       "      <td>{'address1': '3213 W Armitage Ave', 'address2'...</td>\n",
       "      <td>+17737998750</td>\n",
       "      <td>(773) 799-8750</td>\n",
       "      <td>9670.088104</td>\n",
       "    </tr>\n",
       "    <tr>\n",
       "      <th>999</th>\n",
       "      <td>q9AUsrYTakTMIHJkKA_EIQ</td>\n",
       "      <td>exchequer-restaurant-and-pub-chicago</td>\n",
       "      <td>Exchequer Restaurant &amp; Pub</td>\n",
       "      <td>https://s3-media2.fl.yelpcdn.com/bphoto/IWNK1y...</td>\n",
       "      <td>False</td>\n",
       "      <td>https://www.yelp.com/biz/exchequer-restaurant-...</td>\n",
       "      <td>630</td>\n",
       "      <td>[{'alias': 'pizza', 'title': 'Pizza'}, {'alias...</td>\n",
       "      <td>4.0</td>\n",
       "      <td>{'latitude': 41.8787384660152, 'longitude': -8...</td>\n",
       "      <td>[delivery, pickup]</td>\n",
       "      <td>$$</td>\n",
       "      <td>{'address1': '226 S Wabash Ave', 'address2': '...</td>\n",
       "      <td>+13129395633</td>\n",
       "      <td>(312) 939-5633</td>\n",
       "      <td>10131.153858</td>\n",
       "    </tr>\n",
       "  </tbody>\n",
       "</table>\n",
       "</div>"
      ],
      "text/plain": [
       "                         id                                    alias  \\\n",
       "995  OePx82TBE3PuHJH-7OfLHQ            antonios-pizza-factory-geneva   \n",
       "996  kmJ6Todwg36wLxv6UZYMyA  chicago-pizza-authority-hoffman-estates   \n",
       "997  fESy8pfywnwDqJzKpn5GZw            sarpinos-pizzeria-chicago-452   \n",
       "998  fDpryalBDQhHoll8UKRaXw                          way-out-chicago   \n",
       "999  q9AUsrYTakTMIHJkKA_EIQ     exchequer-restaurant-and-pub-chicago   \n",
       "\n",
       "                           name  \\\n",
       "995     Antonio's Pizza Factory   \n",
       "996     Chicago Pizza Authority   \n",
       "997          Sarpino's Pizzeria   \n",
       "998                     Way Out   \n",
       "999  Exchequer Restaurant & Pub   \n",
       "\n",
       "                                             image_url  is_closed  \\\n",
       "995  https://s3-media4.fl.yelpcdn.com/bphoto/vEPxj7...      False   \n",
       "996  https://s3-media3.fl.yelpcdn.com/bphoto/5sWngZ...      False   \n",
       "997  https://s3-media1.fl.yelpcdn.com/bphoto/390GS4...      False   \n",
       "998  https://s3-media2.fl.yelpcdn.com/bphoto/puRdxB...      False   \n",
       "999  https://s3-media2.fl.yelpcdn.com/bphoto/IWNK1y...      False   \n",
       "\n",
       "                                                   url  review_count  \\\n",
       "995  https://www.yelp.com/biz/antonios-pizza-factor...            47   \n",
       "996  https://www.yelp.com/biz/chicago-pizza-authori...            24   \n",
       "997  https://www.yelp.com/biz/sarpinos-pizzeria-chi...           213   \n",
       "998  https://www.yelp.com/biz/way-out-chicago?adjus...            22   \n",
       "999  https://www.yelp.com/biz/exchequer-restaurant-...           630   \n",
       "\n",
       "                                            categories  rating  \\\n",
       "995             [{'alias': 'pizza', 'title': 'Pizza'}]     4.5   \n",
       "996  [{'alias': 'pizza', 'title': 'Pizza'}, {'alias...     4.5   \n",
       "997  [{'alias': 'pizza', 'title': 'Pizza'}, {'alias...     3.0   \n",
       "998  [{'alias': 'chicken_wings', 'title': 'Chicken ...     4.5   \n",
       "999  [{'alias': 'pizza', 'title': 'Pizza'}, {'alias...     4.0   \n",
       "\n",
       "                                           coordinates        transactions  \\\n",
       "995  {'latitude': 41.8827095031738, 'longitude': -8...          [delivery]   \n",
       "996     {'latitude': 42.09277, 'longitude': -88.12274}  [delivery, pickup]   \n",
       "997      {'latitude': 41.9613, 'longitude': -87.66648}  [delivery, pickup]   \n",
       "998  {'latitude': 41.91716335791234, 'longitude': -...  [delivery, pickup]   \n",
       "999  {'latitude': 41.8787384660152, 'longitude': -8...  [delivery, pickup]   \n",
       "\n",
       "    price                                           location         phone  \\\n",
       "995    $$  {'address1': '500 Lark St', 'address2': '', 'a...  +16302326666   \n",
       "996   NaN  {'address1': '1726 W Algonquin Rd', 'address2'...  +18474858223   \n",
       "997    $$  {'address1': '1435 W Montrose St', 'address2':...  +17732811800   \n",
       "998   NaN  {'address1': '3213 W Armitage Ave', 'address2'...  +17737998750   \n",
       "999    $$  {'address1': '226 S Wabash Ave', 'address2': '...  +13129395633   \n",
       "\n",
       "      display_phone      distance  \n",
       "995  (630) 232-6666  50978.379399  \n",
       "996  (847) 485-8223  43409.584245  \n",
       "997  (773) 281-1800  15346.641319  \n",
       "998  (773) 799-8750   9670.088104  \n",
       "999  (312) 939-5633  10131.153858  "
      ]
     },
     "metadata": {},
     "output_type": "display_data"
    }
   ],
   "source": [
    "# load final results\n",
    "final_df = pd.read_json(JSON_FILE)\n",
    "display(final_df.head(), final_df.tail())"
   ]
  },
  {
   "cell_type": "code",
   "execution_count": 15,
   "id": "47816343",
   "metadata": {},
   "outputs": [
    {
     "data": {
      "text/plain": [
       "6"
      ]
     },
     "execution_count": 15,
     "metadata": {},
     "output_type": "execute_result"
    }
   ],
   "source": [
    "# check for duplicate ID's \n",
    "final_df.duplicated(subset='id').sum()"
   ]
  },
  {
   "cell_type": "code",
   "execution_count": 17,
   "id": "1360d385",
   "metadata": {},
   "outputs": [
    {
     "data": {
      "text/plain": [
       "0"
      ]
     },
     "execution_count": 17,
     "metadata": {},
     "output_type": "execute_result"
    }
   ],
   "source": [
    "## Drop duplicate ids and confirm there are no more duplicates\n",
    "final_df = final_df.drop_duplicates(subset='id')\n",
    "final_df.duplicated(subset='id').sum()"
   ]
  },
  {
   "cell_type": "code",
   "execution_count": 18,
   "id": "b605fe34",
   "metadata": {},
   "outputs": [],
   "source": [
    "# save the final results to a compressed csv\n",
    "final_df.to_csv('Data/final_results_Chi_pizza.csv.gz', compression='gzip',index=False)"
   ]
  },
  {
   "cell_type": "code",
   "execution_count": null,
   "id": "1972bf1f",
   "metadata": {},
   "outputs": [],
   "source": []
  }
 ],
 "metadata": {
  "kernelspec": {
   "display_name": "Python (dojo-env)",
   "language": "python",
   "name": "dojo-env"
  },
  "language_info": {
   "codemirror_mode": {
    "name": "ipython",
    "version": 3
   },
   "file_extension": ".py",
   "mimetype": "text/x-python",
   "name": "python",
   "nbconvert_exporter": "python",
   "pygments_lexer": "ipython3",
   "version": "3.9.15"
  },
  "toc": {
   "base_numbering": 1,
   "nav_menu": {},
   "number_sections": false,
   "sideBar": true,
   "skip_h1_title": false,
   "title_cell": "Table of Contents",
   "title_sidebar": "Contents",
   "toc_cell": false,
   "toc_position": {},
   "toc_section_display": true,
   "toc_window_display": false
  }
 },
 "nbformat": 4,
 "nbformat_minor": 5
}
